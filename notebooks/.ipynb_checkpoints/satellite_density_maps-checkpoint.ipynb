{
 "cells": [
  {
   "cell_type": "code",
   "execution_count": null,
   "id": "72fcedf9-4998-4b4e-a0f0-2ab42741120f",
   "metadata": {},
   "outputs": [],
   "source": [
    "import numpy as np\n",
    "import pandas as pd\n",
    "\n",
    "import astropy.units as u\n",
    "import astropy.constants as const\n",
    "from astropy.time import Time\n",
    "from astropy.coordinates import AltAz, EarthLocation, SkyCoord\n",
    "\n",
    "from analytical_satsky.model import compute_total_satellite_density\n",
    "from analytical_satsky.plot_utils import plot_sky_map\n",
    "\n",
    "from matplotlib.colors import LogNorm\n",
    "%pylab inline"
   ]
  },
  {
   "cell_type": "code",
   "execution_count": null,
   "id": "19c2e1bc-4c3a-42e9-bad4-0bbd45641df4",
   "metadata": {},
   "outputs": [],
   "source": [
    "from analytical_satsky.loaders import load_table_starlink_march25\n",
    "\n",
    "shells_df = load_table_starlink_march25()\n",
    "print(shells_df)"
   ]
  },
  {
   "cell_type": "code",
   "execution_count": null,
   "id": "54ef2166-7823-4ca5-9b62-52f851f99ecb",
   "metadata": {},
   "outputs": [],
   "source": [
    "ndec, nra = 90*10, 360*5\n",
    "target_dec = np.linspace(-np.pi/2, np.pi/2, ndec, endpoint=False)*u.radian\n",
    "target_ra = np.linspace(0, 2*np.pi, nra, endpoint=False)*u.radian\n",
    "skamid_lat = (-30.71292499*u.deg).to(u.rad)\n",
    "skamid_lon = (116.67081524*u.deg).to(u.rad)\n",
    "Lfov = 9.5*u.deg\n",
    "texp = 3600*u.s\n",
    "\n",
    "total_dens = compute_total_satellite_density(skamid_lat, skamid_lon, shells_df, target_dec, target_ra, Lfov, texp)"
   ]
  },
  {
   "cell_type": "code",
   "execution_count": null,
   "id": "fc108d91-b568-4088-81f3-10521e2ab472",
   "metadata": {},
   "outputs": [],
   "source": [
    "plot_sky_map(total_dens, skamid_lat, skamid_lon, target_ra, target_dec)"
   ]
  }
 ],
 "metadata": {
  "kernelspec": {
   "display_name": "Python 3 (ipykernel)",
   "language": "python",
   "name": "python3"
  },
  "language_info": {
   "codemirror_mode": {
    "name": "ipython",
    "version": 3
   },
   "file_extension": ".py",
   "mimetype": "text/x-python",
   "name": "python",
   "nbconvert_exporter": "python",
   "pygments_lexer": "ipython3",
   "version": "3.12.8"
  }
 },
 "nbformat": 4,
 "nbformat_minor": 5
}
